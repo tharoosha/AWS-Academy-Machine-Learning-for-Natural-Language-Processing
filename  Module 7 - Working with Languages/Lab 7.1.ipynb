{
 "cells": [
  {
   "cell_type": "markdown",
   "id": "0a9c5010",
   "metadata": {},
   "source": [
    "Version: 07.01.2022"
   ]
  },
  {
   "cell_type": "markdown",
   "metadata": {},
   "source": [
    "# Lab 7.1: Implementing a Multilingual Solution\n",
    "\n",
    "In this lab, you will learn how to use three different AWS services to create a solution that translates an audio file into text in a different language.\n",
    "\n",
    "## Introducing the business scenario\n",
    "\n",
    "In this lab, you play the role of a machine learning (ML) developer working for a media company that translates videos between multiple languages.  \n",
    "\n",
    "## Lab steps\n",
    "\n",
    "To complete this lab, you will follow these steps:\n",
    "\n",
    "1. [Amazon Transcribe example](#1.-Amazon-Transcribe-example)\n",
    "2. [Amazon Translate example](#2.-Amazon-Translate-example)\n",
    "3. [Amazon Polly example](#3.-Amazon-Polly-example)\n",
    "4. [Challenge exercise](#4.-Challenge-exercise)\n",
    "\n",
    "## Submitting your work\n",
    "\n",
    "1. In the lab console, choose **Submit** to record your progress and when prompted, choose **Yes**.\n",
    "\n",
    "1. If the results don't display after a couple of minutes, return to the top of the lab instructions and choose **Grades**.\n",
    "\n",
    "    **Tip:** You can submit your work multiple times. After you change your work, choose **Submit** again. Your last submission is what will be recorded for this lab.\n",
    "\n",
    "1. To find detailed feedback on your work, choose **Details** followed by **View Submission Report**.\n",
    "    "
   ]
  },
  {
   "cell_type": "markdown",
   "id": "d63dffa6",
   "metadata": {},
   "source": [
    "## 1. Amazon Transcribe example\n",
    "([Go to top](#Lab-7.1:-Implementing-a-Multilingual-Solution))\n",
    "\n",
    "In this section, you will use the AWS SDK for Python (boto3) client to call Amazon Transcribe and convert an audio file into text. After running the example, you can go to the [Amazon Transcribe](https://console.aws.amazon.com/transcribe/home?region=us-east-1) console to see the transcription.\n",
    "\n",
    "It will take a few minutes for the transcription to complete."
   ]
  },
  {
   "cell_type": "code",
   "execution_count": null,
   "id": "90b1e00a",
   "metadata": {},
   "outputs": [],
   "source": [
    "import uuid\n",
    "import json\n",
    "import boto3\n",
    "from time import sleep\n",
    "\n",
    "bucket = 'c125984a3128017l8216419t1w730335316855-labbucket-smlaql8qubw3'\n",
    "database_access_role_arn = 'arn:aws:iam::730335316855:role/service-role/c125984a3128017l8216419t1w-ComprehendDataAccessRole-a5quWs8vtpib'\n",
    "translate_access_role_arn = 'arn:aws:iam::730335316855:role/c125984a3128017l8216419t1w7303353-TranslateDemoRole-3DCvpvybAqYo'\n",
    "\n",
    "\n",
    "transcribe_client = boto3.client(\"transcribe\")"
   ]
  },
  {
   "cell_type": "markdown",
   "id": "b2ce86fb",
   "metadata": {},
   "source": [
    "The test.wav sample file is located in the **/s3** folder. The file contains the audio phrase \"Test. Hello, hello, hello. This is a test. Test, test, test.\""
   ]
  },
  {
   "cell_type": "code",
   "execution_count": null,
   "id": "04388243",
   "metadata": {},
   "outputs": [],
   "source": [
    "#Create input parameters for job_name and job_uri\n",
    "media_input_uri = f's3://{bucket}/lab71/transcribe-sample/test.wav'"
   ]
  },
  {
   "cell_type": "markdown",
   "id": "7bba1b52",
   "metadata": {},
   "source": [
    "First, create the transcription job with the test.wav file as the input. Note that you need to specify an output location."
   ]
  },
  {
   "cell_type": "code",
   "execution_count": null,
   "id": "fdd4aaf0",
   "metadata": {},
   "outputs": [],
   "source": [
    "#create the transcription job\n",
    "job_uuid = uuid.uuid1()\n",
    "transcribe_job_name = f\"transcribe-job-{job_uuid}\"\n",
    "transcribe_output_filename = 'transcribe_output.txt'\n",
    "\n",
    "response = transcribe_client.start_transcription_job(\n",
    "    TranscriptionJobName=transcribe_job_name,\n",
    "    Media={'MediaFileUri': media_input_uri},\n",
    "    MediaFormat='wav',\n",
    "    LanguageCode='en-US',\n",
    "    OutputBucketName=bucket,\n",
    "    OutputKey=transcribe_output_filename\n",
    ")"
   ]
  },
  {
   "cell_type": "markdown",
   "id": "9c6dbff4",
   "metadata": {},
   "source": [
    "Wait until the job completes."
   ]
  },
  {
   "cell_type": "code",
   "execution_count": null,
   "id": "0c13a308",
   "metadata": {},
   "outputs": [],
   "source": [
    "job=None\n",
    "while True:\n",
    "    job = transcribe_client.get_transcription_job(TranscriptionJobName = transcribe_job_name)\n",
    "    if job['TranscriptionJob']['TranscriptionJobStatus'] in ['COMPLETED','FAILED']:\n",
    "        break\n",
    "    print('.', end='')\n",
    "    sleep(20)\n",
    "        \n",
    "print(job['TranscriptionJob']['TranscriptionJobStatus'])"
   ]
  },
  {
   "cell_type": "markdown",
   "id": "e9006576",
   "metadata": {},
   "source": [
    "If the output from the previous cell is *COMPLETED*, then proceed. Otherwise, correct the error and retry the previous cell."
   ]
  },
  {
   "cell_type": "markdown",
   "id": "aeede010",
   "metadata": {},
   "source": [
    "To retrieve the output file, use the results from the `get_transcription_job` method call."
   ]
  },
  {
   "cell_type": "code",
   "execution_count": null,
   "id": "ecb0d981",
   "metadata": {},
   "outputs": [],
   "source": [
    "transcription_file = job['TranscriptionJob']['Transcript']['TranscriptFileUri']\n",
    "print(transcription_file)"
   ]
  },
  {
   "cell_type": "markdown",
   "id": "f7a3dc19",
   "metadata": {},
   "source": [
    "To download the file from Amazon Simple Storage Service (Amazon S3), use the S3 client."
   ]
  },
  {
   "cell_type": "code",
   "execution_count": null,
   "id": "e8f14b46",
   "metadata": {},
   "outputs": [],
   "source": [
    "s3_client = boto3.client('s3')\n",
    "with open(transcribe_output_filename, 'wb') as f:\n",
    "    s3_client.download_fileobj(bucket, transcribe_output_filename, f)"
   ]
  },
  {
   "cell_type": "markdown",
   "id": "edafac14",
   "metadata": {},
   "source": [
    "Open the file and read the contents into a JSON object."
   ]
  },
  {
   "cell_type": "code",
   "execution_count": null,
   "id": "1bb2111d",
   "metadata": {},
   "outputs": [],
   "source": [
    "with open(transcribe_output_filename) as f:\n",
    "  data = json.load(f)"
   ]
  },
  {
   "cell_type": "code",
   "execution_count": null,
   "id": "c0cffbb3",
   "metadata": {},
   "outputs": [],
   "source": [
    "data"
   ]
  },
  {
   "cell_type": "markdown",
   "id": "87b6aea2",
   "metadata": {},
   "source": [
    "To get the actual transcription, run the following cell."
   ]
  },
  {
   "cell_type": "code",
   "execution_count": null,
   "id": "7e850ce3",
   "metadata": {},
   "outputs": [],
   "source": [
    "data['results']['transcripts'][0]['transcript']"
   ]
  },
  {
   "cell_type": "markdown",
   "id": "fdca83ae",
   "metadata": {},
   "source": [
    "## 2. Amazon Translate example\n",
    "\n",
    "([Go to top](#Lab-7.1:-Implementing-a-Multilingual-Solution))\n",
    "\n",
    "In this section, you will use the AWS SDK for Python (boto3) client to call Amazon Translate and convert a text file from English to Spanish. After running the example, you can go to the [Amazon Translate](https://console.aws.amazon.com/translate/home?region=us-east-1#batch-translation) console to see the translation.\n",
    "\n",
    "The translation and details about the job are located in the **Batch translation** section. The text file containing the translation will be in your S3 bucket. The bucket will also have a **details** folder that contains a JSON file with details about the translation, such as the source and target languages."
   ]
  },
  {
   "cell_type": "markdown",
   "id": "5ee4ac28",
   "metadata": {},
   "source": [
    "First, create the translation job. The input and output locations are required.\n",
    "\n",
    "Note that Amazon Translate can translate the same text into multiple target languages. In this example, you will use Spanish, for which the language code is `es`."
   ]
  },
  {
   "cell_type": "code",
   "execution_count": null,
   "id": "9995145c",
   "metadata": {},
   "outputs": [],
   "source": [
    "import uuid\n",
    "\n",
    "translate_client = boto3.client(service_name='translate')\n",
    "\n",
    "input_data = f's3://{bucket}/lab71/translate-sample'\n",
    "output_data = f's3://{bucket}'\n",
    "\n",
    "job_uuid = uuid.uuid1()\n",
    "translate_job_name = f\"translate-job-{job_uuid}\"\n",
    "translate_job_submission = translate_client.start_text_translation_job(\n",
    "    JobName=translate_job_name,\n",
    "    InputDataConfig={'S3Uri': input_data, 'ContentType':'text/plain'},\n",
    "    OutputDataConfig={'S3Uri': output_data},\n",
    "    DataAccessRoleArn=translate_access_role_arn,\n",
    "    SourceLanguageCode='en',\n",
    "    TargetLanguageCodes=['es']\n",
    ")\n",
    "translate_job_id = translate_job_submission['JobId']"
   ]
  },
  {
   "cell_type": "markdown",
   "id": "1fb69725",
   "metadata": {},
   "source": [
    "Use the job ID from the previous cell to get the status. Wait for the job to complete.\n",
    "\n",
    "Note that the job will take a few minutes to complete."
   ]
  },
  {
   "cell_type": "code",
   "execution_count": null,
   "id": "0cc4a11f",
   "metadata": {},
   "outputs": [],
   "source": [
    "while True:\n",
    "    translate_job = translate_client.describe_text_translation_job(JobId=translate_job_id)\n",
    "    if translate_job['TextTranslationJobProperties']['JobStatus'] in ['COMPLETED','FAILED']:\n",
    "        break\n",
    "    sleep(20)\n",
    "    print('.', end='')\n",
    "\n",
    "print(translate_job['TextTranslationJobProperties']['JobStatus'])"
   ]
  },
  {
   "cell_type": "markdown",
   "id": "0b3dd602",
   "metadata": {},
   "source": [
    "If the output from the previous cell is *COMPLETED*, then proceed. Otherwise, correct the error and retry the previous cell."
   ]
  },
  {
   "cell_type": "markdown",
   "id": "039eabfe",
   "metadata": {},
   "source": [
    "The format of the output folder is created from the account number and job ID. The following cell creates a path with this information."
   ]
  },
  {
   "cell_type": "code",
   "execution_count": null,
   "id": "82124303",
   "metadata": {},
   "outputs": [],
   "source": [
    "account_id = boto3.client('sts').get_caller_identity().get('Account')\n",
    "translate_output_path = f'{account_id}-TranslateText-{translate_job_id}/'"
   ]
  },
  {
   "cell_type": "markdown",
   "id": "137e4b9f",
   "metadata": {},
   "source": [
    "Amazon Translate outputs several files. You are interested in the .txt file, which contains the results from the translation. The following cell will download the .txt file."
   ]
  },
  {
   "cell_type": "code",
   "execution_count": null,
   "id": "e9c68318",
   "metadata": {},
   "outputs": [],
   "source": [
    "s3_resource = boto3.resource('s3')\n",
    "my_bucket = s3_resource.Bucket(bucket)\n",
    "\n",
    "for my_bucket_object in my_bucket.objects.filter(Prefix=translate_output_path):\n",
    "    file=my_bucket_object.key\n",
    "    if file.endswith('txt'):\n",
    "        file = file.lstrip(translate_output_path)\n",
    "        file = file.lstrip('/')\n",
    "        print(file)\n",
    "        with open(file, 'wb') as f:\n",
    "            s3_client.download_fileobj(bucket, my_bucket_object.key, f)"
   ]
  },
  {
   "cell_type": "markdown",
   "id": "2c6fca25",
   "metadata": {},
   "source": [
    "## 3. Amazon Polly example\n",
    "\n",
    "([Go to top](#Lab-7.1:-Implementing-a-Multilingual-Solution))\n",
    "\n",
    "In this section, you will use the AWS SDK for Python (boto3) client to call Amazon Polly and create a vocalization of a text file in Spanish.\n",
    "\n",
    "After you run the cell, open your S3 bucket to see the output. The output is an .mp3 file with a long string as the file name. You can open the file and hear the Lucia voice saying \"Prueba de prueba, este es una prueba.\"\n"
   ]
  },
  {
   "cell_type": "code",
   "execution_count": null,
   "id": "13536a42",
   "metadata": {},
   "outputs": [],
   "source": [
    "polly_client = boto3.client('polly')\n",
    "\n",
    "itemname = 'lab71/polly-sample/es.test.txt'\n",
    "obj = s3_resource.Object(bucket, itemname )\n",
    "body = obj.get()['Body'].read().decode('utf-8')\n",
    "\n",
    "response = polly_client.start_speech_synthesis_task(\n",
    "    Engine='standard',\n",
    "    OutputFormat='mp3',\n",
    "    OutputS3BucketName=bucket,\n",
    "    Text=body,\n",
    "    VoiceId='Lucia'\n",
    ") \n"
   ]
  },
  {
   "cell_type": "markdown",
   "id": "765bd583",
   "metadata": {},
   "source": [
    "Extract the task ID from the response."
   ]
  },
  {
   "cell_type": "code",
   "execution_count": null,
   "id": "a3bbebae",
   "metadata": {},
   "outputs": [],
   "source": [
    "task_id = response['SynthesisTask']['TaskId']"
   ]
  },
  {
   "cell_type": "markdown",
   "id": "4c038f57",
   "metadata": {},
   "source": [
    "Use this task ID to check whether the job is complete."
   ]
  },
  {
   "cell_type": "code",
   "execution_count": null,
   "id": "bde9ce53",
   "metadata": {},
   "outputs": [],
   "source": [
    "while True:\n",
    "    polly_job = polly_client.get_speech_synthesis_task(TaskId=task_id)\n",
    "    if polly_job['SynthesisTask']['TaskStatus'] in ['completed','failed']:\n",
    "        break\n",
    "    sleep(20)\n",
    "    print('.', end='')\n",
    "\n",
    "print(polly_job['SynthesisTask']['TaskStatus'])"
   ]
  },
  {
   "cell_type": "markdown",
   "id": "ea487e79",
   "metadata": {},
   "source": [
    "If the output from the previous cell is *completed*, then proceed. Otherwise, correct the error and retry the previous cell."
   ]
  },
  {
   "cell_type": "markdown",
   "id": "fb448de1",
   "metadata": {},
   "source": [
    "To download the results, run the following cell."
   ]
  },
  {
   "cell_type": "code",
   "execution_count": null,
   "id": "3c7ece3e",
   "metadata": {},
   "outputs": [],
   "source": [
    "s3_client = boto3.client('s3')\n",
    "polly_output_filename = f'{task_id}.mp3'\n",
    "with open(polly_output_filename, 'wb') as f:\n",
    "    s3_client.download_fileobj(bucket, polly_output_filename, f)"
   ]
  },
  {
   "cell_type": "markdown",
   "id": "ac6a76cf",
   "metadata": {},
   "source": [
    "## 4. Challenge exercise\n",
    "\n",
    "([Go to top](#Lab-7.1:-Implementing-a-Multilingual-Solution))\n",
    "    \n",
    "Your challenge is to create a translated audio file from a video that has an English audio channel. You can use the code from the previous three examples as a template for your solution.\n",
    "\n",
    "The video for the challenge is in your S3 bucket in the `lab71/challenge` folder. The video file is named sample.mp4. This file is also available in the `/s3` folder in this notebook instance."
   ]
  },
  {
   "cell_type": "markdown",
   "metadata": {},
   "source": [
    "# Congratulations!\n",
    "\n",
    "You have completed this lab, and you can now end the lab by following the lab guide instructions."
   ]
  },
  {
   "cell_type": "markdown",
   "metadata": {},
   "source": [
    "*©2021 Amazon Web Services, Inc. or its affiliates. All rights reserved. This work may not be reproduced or redistributed, in whole or in part, without prior written permission from Amazon Web Services, Inc. Commercial copying, lending, or selling is prohibited. All trademarks are the property of their owners.*"
   ]
  }
 ],
 "metadata": {
  "kernelspec": {
   "display_name": "conda_python3",
   "language": "python",
   "name": "conda_python3"
  },
  "language_info": {
   "codemirror_mode": {
    "name": "ipython",
    "version": 3
   },
   "file_extension": ".py",
   "mimetype": "text/x-python",
   "name": "python",
   "nbconvert_exporter": "python",
   "pygments_lexer": "ipython3",
   "version": "3.6.13"
  }
 },
 "nbformat": 4,
 "nbformat_minor": 5
}
