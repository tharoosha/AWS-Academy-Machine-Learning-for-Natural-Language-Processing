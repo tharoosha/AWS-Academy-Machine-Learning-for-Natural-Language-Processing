{
 "cells": [
  {
   "cell_type": "markdown",
   "metadata": {},
   "source": [
    "# Lab 5.2: Working with Entities\n",
    "\n",
    "In this lab, you will use Amazon Comprehend to extract key phrases and entities from the [CMU Movie Summary Corpus](http://www.cs.cmu.edu/~ark/personas/). You will then feed the results into an OpenSearch cluster and build a Kibana dashboard to view and filter the results. You will also look at building word clouds and using ngrams to extract key phrases.\n",
    "\n",
    "## About the dataset\n",
    "\n",
    "The CMU Movie Summary Corpus is a collection of 42,306 movie plot summaries and metadata at both the movie level (including box office revenue, genre, and date of release) and character level (including gender and estimated age).  This data supports work in the following paper:\n",
    "\n",
    "David Bamman, Brendan O'Connor, and Noah Smith. \"Learning Latent Personas of Film Characters.\" Presented at the Annual Meeting of the Association for Computational Linguistics (ACL 2013), Sofia, Bulgaria, August 2013. http://www.cs.cmu.edu/~dbamman/pubs/pdf/bamman+oconnor+smith.acl13.pdf.\n",
    "\n",
    "You will use two datasets in this lab:\n",
    "\n",
    "**plot_summaries.txt**\n",
    "\n",
    "This dataset contains plot summaries of 42,306 movies, extracted from the November 2, 2012 dump of English-language Wikipedia. Each line contains the Wikipedia movie ID (which indexes into movie.metadata.tsv) followed by the summary.\n",
    "\n",
    "**movie.metadata.tsv**\n",
    "\n",
    "This dataset contains metadata for 81,741 movies, extracted from the November 4, 2012 dump of Freebase. The data is tab-separated and contains the following columns:\n",
    "\n",
    "1. Wikipedia movie ID\n",
    "2. Freebase movie ID\n",
    "3. Movie name\n",
    "4. Movie release date\n",
    "5. Movie box office revenue\n",
    "6. Movie runtime\n",
    "7. Movie languages (Freebase ID:name tuples)\n",
    "8. Movie countries (Freebase ID:name tuples)\n",
    "9. Movie genres (Freebase ID:name tuples)"
   ]
  },
  {
   "cell_type": "markdown",
   "metadata": {},
   "source": [
    "## Lab steps\n",
    "\n",
    "To complete this lab, you will follow these steps:\n",
    "\n",
    "1. [Installing the packages](#1.-Installing-the-packages)\n",
    "2. [Reviewing the datasets](#2.-Reviewing-the-datasets)\n",
    "3. [Normalizing the text](#3.-Normalizing-the-text)\n",
    "4. [Starting the Amazon Comprehend jobs](#4.-Starting-the-Amazon-Comprehend-jobs)\n",
    "5. [Creating the OpenSearch cluster](#5.-Creating-the-OpenSearch-cluster)\n",
    "6. [Using word clouds and ngrams](#6.-Using-word-clouds-and-ngrams)\n",
    "7. [Returning to Amazon Comprehend](#7.-Returning-to-Amazon-Comprehend)\n",
    "8. [Creating the Kibana dashboard](#8.-Creating-the-Kibana-dashboard)\n",
    "9. [Cleaning up](#9.-Cleaning-up)\n",
    "\n",
    "## Submitting your work\n",
    "\n",
    "1. In the lab console, choose **Submit** to record your progress and when prompted, choose **Yes**.\n",
    "\n",
    "1. If the results don't display after a couple of minutes, return to the top of these instructions and choose **Grades**.\n",
    "\n",
    "     **Tip**: You can submit your work multiple times. After you change your work, choose **Submit** again. Your last submission is what will be recorded for this lab.\n",
    "\n",
    "1. To find detailed feedback on your work, choose **Details** followed by **View Submission Report**."
   ]
  },
  {
   "cell_type": "markdown",
   "metadata": {},
   "source": [
    "## 1. Installing the packages\n",
    "([Go to top](#Lab-5.2:-Working-with-Entities))\n",
    "\n",
    "First, update and install the packages that you will use in the notebook. \n",
    "\n",
    "- **opensearch** - provides a package for interacting with the OpenSearch cluster\n",
    "- **opensearch-py** - provides a OpenSearch python client\n",
    "- **requests** - provides a package for making HTTP(S) requests\n",
    "- **aws4auth** - provides a simple wrapper for signing requests for AWS"
   ]
  },
  {
   "cell_type": "code",
   "execution_count": null,
   "metadata": {},
   "outputs": [],
   "source": [
    "!pip install --upgrade pip\n",
    "!pip install opensearch\n",
    "!pip install opensearch-py\n",
    "!pip install requests\n",
    "!pip install requests-aws4auth"
   ]
  },
  {
   "cell_type": "markdown",
   "metadata": {},
   "source": [
    "Next, import the packages. You have used most of these packages in previous labs."
   ]
  },
  {
   "cell_type": "code",
   "execution_count": null,
   "metadata": {
    "slideshow": {
     "slide_type": "skip"
    }
   },
   "outputs": [],
   "source": [
    "import boto3\n",
    "import os, io, struct, json\n",
    "import numpy as np\n",
    "import pandas as pd\n",
    "import seaborn as sns\n",
    "import matplotlib.pyplot as plt\n",
    "import uuid\n",
    "from time import sleep\n",
    "import re\n",
    "import nltk\n",
    "nltk.download('punkt')\n",
    "nltk.download('stopwords')\n",
    "nltk.download('averaged_perceptron_tagger')\n",
    "nltk.download('wordnet')\n",
    "nltk.download('omw-1.4')\n",
    "from nltk.corpus import stopwords\n",
    "from nltk.stem.porter import PorterStemmer\n",
    "from nltk.tokenize import RegexpTokenizer\n",
    "from nltk.stem.wordnet import WordNetLemmatizer"
   ]
  },
  {
   "cell_type": "markdown",
   "metadata": {},
   "source": [
    "In the lab, you will upload files to Amazon Simple Storage Service (Amazon S3) to be processed, and you will download the results. The following bucket information should already be set for you."
   ]
  },
  {
   "cell_type": "code",
   "execution_count": null,
   "metadata": {},
   "outputs": [],
   "source": [
    "bucket = \"c125984a3128017l8216419t1w730335316855-labbucket-smlaql8qubw3\"\n",
    "prefix='lab52'"
   ]
  },
  {
   "cell_type": "markdown",
   "metadata": {},
   "source": [
    "## 2. Reviewing the datasets\n",
    "([Go to top](#Lab-5.2:-Working-with-Entities))\n",
    "\n",
    "In this section, you will load the two datasets into pandas and explore the data.\n",
    "\n",
    "First, load the plot_summaries.tsv data into a pandas DataFrame.\n",
    "\n",
    "The file contains two columns: **movie_id** and **plot**. The data is tab-separated, and the '\\t' escape sequence is used as the separator.\n"
   ]
  },
  {
   "cell_type": "code",
   "execution_count": null,
   "metadata": {},
   "outputs": [],
   "source": [
    "df = pd.read_csv('../data/plot_summaries.tsv', sep='\\t', names=['movie_id','plot'])\n",
    "df.shape"
   ]
  },
  {
   "cell_type": "markdown",
   "metadata": {},
   "source": [
    "For the rest of this lab we will be using the first 4000 records of the dataset.  This is done to streamline this lab and reduce processing time later."
   ]
  },
  {
   "cell_type": "code",
   "execution_count": null,
   "metadata": {},
   "outputs": [],
   "source": [
    "df = df.head(4000)\n",
    "df.shape"
   ]
  },
  {
   "cell_type": "markdown",
   "metadata": {},
   "source": [
    "Review the first few rows of data to get an overview of how the data is structured."
   ]
  },
  {
   "cell_type": "code",
   "execution_count": null,
   "metadata": {},
   "outputs": [],
   "source": [
    "pd.options.display.max_rows\n",
    "pd.set_option('display.max_colwidth', None)\n",
    "df.head(5)"
   ]
  },
  {
   "cell_type": "markdown",
   "metadata": {},
   "source": [
    "To add a word count to the plot, use a lambda function. In the following cell, the lambda function splits the string, `x`, using a space and returns the number of items in the array. This will not be 100 percent accurate due to punctuation, but it will be accurate enough for this lab."
   ]
  },
  {
   "cell_type": "code",
   "execution_count": null,
   "metadata": {},
   "outputs": [],
   "source": [
    "df['word_count'] = df['plot'].apply(lambda x: len(str(x).split(\" \")))\n",
    "pd.set_option('display.max_colwidth', 150)\n",
    "df.head()"
   ]
  },
  {
   "cell_type": "markdown",
   "metadata": {},
   "source": [
    "With an estimated word count, you can get an idea of how big the plot text is and get some information about the plot, including the max and min."
   ]
  },
  {
   "cell_type": "code",
   "execution_count": null,
   "metadata": {},
   "outputs": [],
   "source": [
    "df.word_count.describe()"
   ]
  },
  {
   "cell_type": "markdown",
   "metadata": {},
   "source": [
    "You can also find out what the most popular words are in your dataset. "
   ]
  },
  {
   "cell_type": "code",
   "execution_count": null,
   "metadata": {},
   "outputs": [],
   "source": [
    "freq = pd.Series(' '.join(df['plot']).split()).value_counts()[:20]"
   ]
  },
  {
   "cell_type": "code",
   "execution_count": null,
   "metadata": {},
   "outputs": [],
   "source": [
    "freq"
   ]
  },
  {
   "cell_type": "markdown",
   "metadata": {},
   "source": [
    "As you can see, the most popular words are mostly stopwords."
   ]
  },
  {
   "cell_type": "markdown",
   "metadata": {},
   "source": [
    "Now examine the metadata. The [dataset documentation](http://www.cs.cmu.edu/~ark/personas/data/README.txt) explains that the data contains nine fields. Load the data into a pandas DataFrame and specify the column names."
   ]
  },
  {
   "cell_type": "code",
   "execution_count": null,
   "metadata": {},
   "outputs": [],
   "source": [
    "movie_meta_df = pd.read_csv('../data/movie.metadata.tsv', sep='\\t', names=['movie_id','freebase_id','name','release_date','box_office_revenue','runtime','languages','countries','genres'])\n",
    "movie_meta_df.head()"
   ]
  },
  {
   "cell_type": "markdown",
   "metadata": {},
   "source": [
    "Set the index to **movie_id**, which will make it easier to merge this dataset with the plot."
   ]
  },
  {
   "cell_type": "code",
   "execution_count": null,
   "metadata": {},
   "outputs": [],
   "source": [
    "movie_meta_df.set_index('movie_id', inplace=True)"
   ]
  },
  {
   "cell_type": "markdown",
   "metadata": {},
   "source": [
    "Because you only need the movie name and something to link this metadata to the plot (**movie_id**), drop the remaining columns."
   ]
  },
  {
   "cell_type": "code",
   "execution_count": null,
   "metadata": {},
   "outputs": [],
   "source": [
    "movie_meta_df=movie_meta_df.drop(['freebase_id','release_date','box_office_revenue','runtime','languages','countries','genres'], axis=1)\n",
    "movie_meta_df.head()"
   ]
  },
  {
   "cell_type": "markdown",
   "metadata": {},
   "source": [
    "Now that you have a general view of the dataset you can begin normalizing the text."
   ]
  },
  {
   "cell_type": "markdown",
   "metadata": {},
   "source": [
    "## 3. Normalizing the text\n",
    "([Go to top](#Lab-5.2:-Working-with-Entities))\n",
    "\n",
    "In this section, you will normalize the text. Normalization steps will remove:\n",
    "    - urls\n",
    "    - whitespace\n",
    "    - extra lines\n",
    "    - html tags"
   ]
  },
  {
   "cell_type": "code",
   "execution_count": null,
   "metadata": {},
   "outputs": [],
   "source": [
    "\n",
    "def normalize_text(content):\n",
    "    text = re.sub(r\"http\\S+\", \"\", content ) # Remove URLs\n",
    "    text = text.lower() # Lowercase all letters\n",
    "    text = text.strip() # Remove leading/trailing whitespace\n",
    "    text = re.sub('\\s+', ' ', text) # Remove extra spaces and tabs\n",
    "    text = re.sub('\\n',' ',text) # Remove newlines\n",
    "    text = re.compile('<.*?>').sub('', text) # Remove HTML tags/markup\n",
    "    return text"
   ]
  },
  {
   "cell_type": "code",
   "execution_count": null,
   "metadata": {},
   "outputs": [],
   "source": [
    "%%time\n",
    "df['plot_normalized'] = df['plot'].apply(normalize_text)"
   ]
  },
  {
   "cell_type": "code",
   "execution_count": null,
   "metadata": {},
   "outputs": [],
   "source": [
    "pd.set_option('display.max_colwidth', 150)\n",
    "df.head()"
   ]
  },
  {
   "cell_type": "markdown",
   "metadata": {},
   "source": [
    "## 4. Starting the Amazon Comprehend jobs\n",
    "([Go to top](#Lab-5.2:-Working-with-Entities))\n",
    "\n",
    "In this section, you will start the Amazon Comprehend jobs."
   ]
  },
  {
   "cell_type": "markdown",
   "metadata": {},
   "source": [
    "The data needs to be uploaded to an S3 bucket to be available to Amazon Comprehend. The following function uploads the data to Amazon S3.\n"
   ]
  },
  {
   "cell_type": "code",
   "execution_count": null,
   "metadata": {},
   "outputs": [],
   "source": [
    "s3_resource = boto3.Session().resource('s3')\n",
    "\n",
    "def upload_comprehend_s3_csv(filename, folder, dataframe):\n",
    "    csv_buffer = io.StringIO()\n",
    "    \n",
    "    dataframe.to_csv(csv_buffer, header=False, index=False )\n",
    "    s3_resource.Bucket(bucket).Object(os.path.join(prefix, folder, filename)).put(Body=csv_buffer.getvalue())    "
   ]
  },
  {
   "cell_type": "markdown",
   "metadata": {},
   "source": [
    "The data also needs to be formatted so that each line has a single document. The size of each line can be no more than 5,000 characters."
   ]
  },
  {
   "cell_type": "code",
   "execution_count": null,
   "metadata": {},
   "outputs": [],
   "source": [
    "comprehend_file = 'comprehend_input.csv'\n",
    "upload_comprehend_s3_csv(comprehend_file, 'comprehend', df['plot_normalized'].str.slice(0,5000))\n",
    "test_url = f's3://{bucket}/{prefix}/comprehend/{comprehend_file}'\n",
    "print(f'Uploaded input to {test_url}')"
   ]
  },
  {
   "cell_type": "markdown",
   "metadata": {},
   "source": [
    "Next, you need to define the following job parameters:\n",
    "\n",
    "- **job_data_access_role** - This is the Amazon Resource Number (ARN) for the AWS Identity and Access Management (IAM) role that has permissions to the S3 bucket. This has been provided for you.\n",
    "- **input_data_format** - Each line in the file is considered to be a separate document.\n",
    "- **job_uuid** - Use this to generate a unique job ID.\n",
    "- **job_name** - This uses the **job_uuid** to build a job name.\n",
    "- **input_data_s3_path** - This is the path to the input data.\n",
    "- **output_data_s3_path** - This is the path to where Amazon Comprehend will store the output."
   ]
  },
  {
   "cell_type": "code",
   "execution_count": null,
   "metadata": {},
   "outputs": [],
   "source": [
    "# Amazon Comprehend client information\n",
    "comprehend_client = boto3.client(service_name=\"comprehend\")\n",
    "\n",
    "# IAM role with access to Amazon Comprehend and specified S3 buckets\n",
    "job_data_access_role = 'arn:aws:iam::730335316855:role/service-role/c125984a3128017l8216419t1w-ComprehendDataAccessRole-a5quWs8vtpib'\n",
    "\n",
    "# Other job parameters\n",
    "input_data_format = 'ONE_DOC_PER_LINE'\n",
    "job_uuid = uuid.uuid1()\n",
    "job_name = f\"kpe-job-{job_uuid}\"\n",
    "input_data_s3_path = test_url\n",
    "output_data_s3_path = f's3://{bucket}/'"
   ]
  },
  {
   "cell_type": "markdown",
   "metadata": {},
   "source": [
    "Start the Amazon Comprehend job to detect key phrases. The job will take about 20 minutes, but you do not need to wait here for it to finish. Continue to the next step."
   ]
  },
  {
   "cell_type": "code",
   "execution_count": null,
   "metadata": {},
   "outputs": [],
   "source": [
    "# Begin the inference job\n",
    "kpe_response = comprehend_client.start_key_phrases_detection_job(\n",
    "    InputDataConfig={'S3Uri': input_data_s3_path,\n",
    "                     'InputFormat': input_data_format},\n",
    "    OutputDataConfig={'S3Uri': output_data_s3_path},\n",
    "    DataAccessRoleArn=job_data_access_role,\n",
    "    JobName=job_name,\n",
    "    LanguageCode='en'\n",
    ")\n",
    "\n",
    "# Get the job ID\n",
    "kpe_job_id = kpe_response['JobId']"
   ]
  },
  {
   "cell_type": "markdown",
   "metadata": {},
   "source": [
    "While that job is running, start the job to detect entities using the same input data."
   ]
  },
  {
   "cell_type": "code",
   "execution_count": null,
   "metadata": {},
   "outputs": [],
   "source": [
    "job_name = f'entity-job-{job_uuid}'\n",
    "entity_response = comprehend_client.start_entities_detection_job(\n",
    "    InputDataConfig={'S3Uri': input_data_s3_path,\n",
    "                     'InputFormat': input_data_format},\n",
    "    OutputDataConfig={'S3Uri': output_data_s3_path},\n",
    "    DataAccessRoleArn=job_data_access_role,\n",
    "    JobName=job_name,\n",
    "    LanguageCode='en'\n",
    ")\n",
    "# Get the job ID\n",
    "entity_job_id = entity_response['JobId']"
   ]
  },
  {
   "cell_type": "markdown",
   "metadata": {},
   "source": [
    "## 5. Creating the OpenSearch cluster\n",
    "([Go to top](#Lab-5.2:-Working-with-Entities))\n",
    "\n",
    "While the Amazon Comprehend jobs are running, create the Amazon OpenSearch cluster."
   ]
  },
  {
   "cell_type": "markdown",
   "metadata": {},
   "source": [
    "To obtain the IP address for your computer, use the following site. \n",
    "\n",
    "http://checkip.amazonaws.com/\n",
    "\n",
    "Copy the IP address value for your computer, and replace the IP address in the following cell."
   ]
  },
  {
   "cell_type": "code",
   "execution_count": null,
   "metadata": {},
   "outputs": [],
   "source": [
    "my_ip = \"YOURIP/24\"\n",
    "print(my_ip)"
   ]
  },
  {
   "cell_type": "markdown",
   "metadata": {},
   "source": [
    "Create a boto3 client for the OpenSearch cluster."
   ]
  },
  {
   "cell_type": "code",
   "execution_count": null,
   "metadata": {},
   "outputs": [],
   "source": [
    "es_client = boto3.client('es')"
   ]
  },
  {
   "cell_type": "markdown",
   "metadata": {},
   "source": [
    "Set up an access policy so that only your IP address can access the dashboards."
   ]
  },
  {
   "cell_type": "code",
   "execution_count": null,
   "metadata": {},
   "outputs": [],
   "source": [
    "access_policy = {\n",
    "        \"Version\": \"2012-10-17\",\n",
    "        \"Statement\": [\n",
    "            {\n",
    "                \"Sid\": \"\",\n",
    "                \"Effect\": \"Allow\",\n",
    "                \"Principal\": {\n",
    "                    \"AWS\": \"*\"\n",
    "                },\n",
    "                \"Action\": \"es:*\",\n",
    "                \"Resource\": \"*\",\n",
    "                \"Condition\": { \"IpAddress\": { \"aws:SourceIp\": my_ip } }\n",
    "            }\n",
    "        ]\n",
    "    }"
   ]
  },
  {
   "cell_type": "markdown",
   "metadata": {},
   "source": [
    "Create the OpenSearch cluster using the following options:\n",
    "\n",
    "\n",
    "- **DomainName** - The name of the cluster\n",
    "- **ElasticSearchClusterConfig** - Specifies the instance type, the number of instances, whether a dedicated master is required, and whether the cluster should be multi-zoned\n",
    "- **AccessPolicies** - Contains the statement from above that only allows your IP address to access the cluster\n"
   ]
  },
  {
   "cell_type": "code",
   "execution_count": null,
   "metadata": {},
   "outputs": [],
   "source": [
    "response = es_client.create_elasticsearch_domain(\n",
    "    DomainName = 'nlp-lab',\n",
    "    ElasticsearchVersion = '7.9',\n",
    "    ElasticsearchClusterConfig={\n",
    "        \"InstanceType\": 'm3.large.elasticsearch',\n",
    "        \"InstanceCount\": 2,\n",
    "        \"DedicatedMasterEnabled\": False,\n",
    "        \"ZoneAwarenessEnabled\": False\n",
    "    },\n",
    "    AccessPolicies = json.dumps(access_policy)\n",
    ")"
   ]
  },
  {
   "cell_type": "markdown",
   "metadata": {},
   "source": [
    "It will take about 10 minutes for the cluster to be created, but you do not need to wait here for it to finish. Continue to the next step."
   ]
  },
  {
   "cell_type": "markdown",
   "metadata": {},
   "source": [
    "## 6. Using word clouds and ngrams\n",
    "([Go to top](#Lab-5.2:-Working-with-Entities))\n",
    "\n",
    "While Amazon Comprehend is processing the data and the OpenSearch cluster is being provisioned, you can explore some other techniques. In this section, you will create a word cloud from the plot text and then look at different ngrams to extract key phrases.  "
   ]
  },
  {
   "cell_type": "markdown",
   "metadata": {},
   "source": [
    "First, load the dataset into a new DataFrame and once again randomly sample 50 percent of the records."
   ]
  },
  {
   "cell_type": "code",
   "execution_count": null,
   "metadata": {},
   "outputs": [],
   "source": [
    "df2 = pd.read_csv('../data/plot_summaries.tsv', sep='\\t', names=['movie_id','plot'])\n",
    "df2 = df2.head(4000)\n",
    "df2.head()"
   ]
  },
  {
   "cell_type": "markdown",
   "metadata": {},
   "source": [
    "Now load the stopwords for the English language.\n"
   ]
  },
  {
   "cell_type": "code",
   "execution_count": null,
   "metadata": {},
   "outputs": [],
   "source": [
    "stop_words = set(stopwords.words(\"english\"))"
   ]
  },
  {
   "cell_type": "code",
   "execution_count": null,
   "metadata": {},
   "outputs": [],
   "source": [
    "df2.get('plot')"
   ]
  },
  {
   "cell_type": "markdown",
   "metadata": {},
   "source": [
    "To normalize the text, use the same cleaning script that you used earlier. A few additional characters are removed in order to improve the word cloud. This cleaning script stores the output in an array."
   ]
  },
  {
   "cell_type": "code",
   "execution_count": null,
   "metadata": {},
   "outputs": [],
   "source": [
    "corpus = []\n",
    "\n",
    "for i in range(0, df2.shape[0]):\n",
    "    # Remove URLs\n",
    "    text = re.sub(r\"http\\S+\", \"\", df2['plot'][i])\n",
    "    # Remove punctuation\n",
    "    text = re.sub('[^a-zA-Z]', ' ', text)\n",
    "    \n",
    "    text = text.lower() # Lowercase all letters\n",
    "    text = text.strip() # Remove leading/trailing whitespace\n",
    "    text = re.sub('\\s+', ' ', text) # Remove extra spaces and tabs\n",
    "    text = re.compile('<.*?>').sub('', text) # Remove HTML tags/markup\n",
    "    \n",
    "    # Remove special characters and digits\n",
    "    text=re.sub(\"(\\\\d|\\\\W)+\",\" \",text)\n",
    "    text=re.sub(\"br\",\"\",text)\n",
    "    \n",
    "    ##Convert to list from string\n",
    "    text = text.split()\n",
    "    \n",
    "    ##Stemming\n",
    "    lem = WordNetLemmatizer()\n",
    "    text = [lem.lemmatize(word) for word in text if not word in stop_words] \n",
    "    text = \" \".join(text)\n",
    "    corpus.append(text)"
   ]
  },
  {
   "cell_type": "markdown",
   "metadata": {},
   "source": [
    "To make a word cloud, install the wordcloud package. Then, run the corpus through the WordCloud constructor."
   ]
  },
  {
   "cell_type": "code",
   "execution_count": null,
   "metadata": {},
   "outputs": [],
   "source": [
    "!pip install wordcloud"
   ]
  },
  {
   "cell_type": "code",
   "execution_count": null,
   "metadata": {},
   "outputs": [],
   "source": [
    "from os import path\n",
    "from PIL import Image\n",
    "from wordcloud import WordCloud, STOPWORDS, ImageColorGenerator\n",
    "import matplotlib.pyplot as plta\n",
    "\n",
    "%matplotlib inline\n",
    "wordcloud = WordCloud(\n",
    "                          background_color='white',\n",
    "                          stopwords=stop_words,\n",
    "                          max_words=100,\n",
    "                          max_font_size=50, \n",
    "                          random_state=42\n",
    "                         ).generate(str(corpus))\n",
    "\n",
    "fig = plt.figure(1)\n",
    "plt.imshow(wordcloud)\n",
    "plt.axis('off')\n",
    "plt.show()\n",
    "fig.savefig(\"word1.png\", dpi=900)"
   ]
  },
  {
   "cell_type": "markdown",
   "metadata": {},
   "source": [
    "Another way to evaluate the text is to create a bar chart of the most frequently occuring words. The next several cells will do the following:\n",
    "    - create a vector for the terms\n",
    "    - create a bag of words model based on the dataset\n",
    "    - create an array of the most frequent words\n",
    "    - load the most frequent words into a DataFrame\n",
    "    - create a bar chart from the DataFrame"
   ]
  },
  {
   "cell_type": "code",
   "execution_count": null,
   "metadata": {},
   "outputs": [],
   "source": [
    "%%time\n",
    "from sklearn.feature_extraction.text import CountVectorizer\n",
    "import re\n",
    "\n",
    "cv=CountVectorizer(max_df=0.8,stop_words=stop_words, max_features=10000, ngram_range=(1,3))\n",
    "\n",
    "X=cv.fit_transform(corpus)"
   ]
  },
  {
   "cell_type": "code",
   "execution_count": null,
   "metadata": {},
   "outputs": [],
   "source": [
    "# Get the most frequently occurring words\n",
    "def get_top_n_words(corpus, n=None, size=1):\n",
    "    vec = CountVectorizer(ngram_range=(size,size), max_features=2000).fit(corpus)\n",
    "    bag_of_words = vec.transform(corpus)\n",
    "    sum_words = bag_of_words.sum(axis=0) \n",
    "    words_freq = [(word, sum_words[0, idx]) for word, idx in      \n",
    "                   vec.vocabulary_.items()]\n",
    "    words_freq =sorted(words_freq, key = lambda x: x[1], \n",
    "                       reverse=True)\n",
    "    return words_freq[:n]"
   ]
  },
  {
   "cell_type": "code",
   "execution_count": null,
   "metadata": {},
   "outputs": [],
   "source": [
    "%%time\n",
    "# Convert the most frequent words to a DataFrame\n",
    "top_words = get_top_n_words(corpus, n=20)\n",
    "top_df = pd.DataFrame(top_words)\n",
    "top_df.columns=[\"Word\", \"Freq\"]\n",
    "\n",
    "# Create a bar plot\n",
    "\n",
    "sns.set(rc={'figure.figsize':(13,8)})\n",
    "g = sns.barplot(x=\"Word\", y=\"Freq\", data=top_df)\n",
    "g.set_xticklabels(g.get_xticklabels(), rotation=30)"
   ]
  },
  {
   "cell_type": "code",
   "execution_count": null,
   "metadata": {},
   "outputs": [],
   "source": [
    "# Get the most frequently occurring bi-grams\n",
    "top2_words = get_top_n_words(corpus, n=20, size=2)\n",
    "top2_df = pd.DataFrame(top2_words)\n",
    "top2_df.columns=[\"Bi-gram\", \"Freq\"]\n",
    "\n",
    "# Create a bar plot\n",
    "sns.set(rc={'figure.figsize':(13,8)})\n",
    "h=sns.barplot(x=\"Bi-gram\", y=\"Freq\", data=top2_df)\n",
    "h.set_xticklabels(h.get_xticklabels(), rotation=45)"
   ]
  },
  {
   "cell_type": "code",
   "execution_count": null,
   "metadata": {},
   "outputs": [],
   "source": [
    "%%time\n",
    "\n",
    "# Get the most frequently occurring tri-grams\n",
    "top3_words = get_top_n_words(corpus, n=20, size=3)\n",
    "top3_df = pd.DataFrame(top3_words)\n",
    "top3_df.columns=[\"Tri-gram\", \"Freq\"]\n",
    "\n",
    "# Create a bar plot\n",
    "sns.set(rc={'figure.figsize':(13,8)})\n",
    "j=sns.barplot(x=\"Tri-gram\", y=\"Freq\", data=top3_df)\n",
    "j.set_xticklabels(j.get_xticklabels(), rotation=45)"
   ]
  },
  {
   "cell_type": "code",
   "execution_count": null,
   "metadata": {},
   "outputs": [],
   "source": [
    "%%time\n",
    "# Get the most frequently occurring 4-grams\n",
    "top4_words = get_top_n_words(corpus, n=20, size=4)\n",
    "top4_df = pd.DataFrame(top4_words)\n",
    "top4_df.columns=[\"Four-gram\", \"Freq\"]\n",
    "print(top4_df)\n",
    "\n",
    "# Create a bar plot\n",
    "sns.set(rc={'figure.figsize':(13,8)})\n",
    "j=sns.barplot(x=\"Four-gram\", y=\"Freq\", data=top4_df)\n",
    "j.set_xticklabels(j.get_xticklabels(), rotation=45)"
   ]
  },
  {
   "cell_type": "markdown",
   "metadata": {},
   "source": [
    "## 7. Returning to Amazon Comprehend\n",
    "([Go to top](#Lab-5.2:-Working-with-Entities))\n",
    "\n"
   ]
  },
  {
   "cell_type": "markdown",
   "metadata": {},
   "source": [
    "The Amazon Comprehend jobs are probably complete now. To check, use the next two cells."
   ]
  },
  {
   "cell_type": "code",
   "execution_count": null,
   "metadata": {},
   "outputs": [],
   "source": [
    "# Get current job status\n",
    "kpe_job = comprehend_client.describe_key_phrases_detection_job(JobId=kpe_job_id)\n",
    "\n",
    "# Loop until job is completed\n",
    "waited = 0\n",
    "timeout_minutes = 30\n",
    "while kpe_job['KeyPhrasesDetectionJobProperties']['JobStatus'] != 'COMPLETED':\n",
    "    sleep(10)\n",
    "    waited += 10\n",
    "    assert waited//60 < timeout_minutes, \"Job timed out after %d seconds.\" % waited\n",
    "    print('.', end='')\n",
    "    kpe_job = comprehend_client.describe_key_phrases_detection_job(JobId=kpe_job_id)\n",
    "\n",
    "print('Ready')"
   ]
  },
  {
   "cell_type": "code",
   "execution_count": null,
   "metadata": {},
   "outputs": [],
   "source": [
    "# Get current job status\n",
    "entity_job = comprehend_client.describe_entities_detection_job(JobId=entity_job_id)\n",
    "\n",
    "# Loop until job is completed\n",
    "waited = 0\n",
    "timeout_minutes = 30\n",
    "while entity_job['EntitiesDetectionJobProperties']['JobStatus'] != 'COMPLETED':\n",
    "    sleep(10)\n",
    "    waited += 10\n",
    "    assert waited//60 < timeout_minutes, \"Job timed out after %d seconds.\" % waited\n",
    "    print('.', end='')\n",
    "    entity_job = comprehend_client.describe_entities_detection_job(JobId=entity_job_id)\n",
    "\n",
    "print('Ready')"
   ]
  },
  {
   "cell_type": "markdown",
   "metadata": {},
   "source": [
    "When both cells print \"Ready,\" proceed to the next step."
   ]
  },
  {
   "cell_type": "markdown",
   "metadata": {},
   "source": [
    "To get the output for the key phrases detection job, extract the output location from the job and download it to the file system.\n"
   ]
  },
  {
   "cell_type": "code",
   "execution_count": null,
   "metadata": {},
   "outputs": [],
   "source": [
    "kpe_comprehend_output_file = kpe_job['KeyPhrasesDetectionJobProperties']['OutputDataConfig']['S3Uri']\n",
    "print(f'output filename: {kpe_comprehend_output_file}')\n",
    "\n",
    "kpe_comprehend_bucket, kpe_comprehend_key = kpe_comprehend_output_file.replace(\"s3://\", \"\").split(\"/\", 1)\n",
    "\n",
    "s3r = boto3.resource('s3')\n",
    "s3r.meta.client.download_file(kpe_comprehend_bucket, kpe_comprehend_key, 'output-kpe.tar.gz')"
   ]
  },
  {
   "cell_type": "markdown",
   "metadata": {},
   "source": [
    "Next, extract the file and rename the output so you know which file this is."
   ]
  },
  {
   "cell_type": "code",
   "execution_count": null,
   "metadata": {},
   "outputs": [],
   "source": [
    "# Extract the tar file\n",
    "import tarfile\n",
    "tf = tarfile.open('output-kpe.tar.gz')\n",
    "tf.extractall()\n",
    "# Rename the output\n",
    "!mv 'output' 'kpe_output'"
   ]
  },
  {
   "cell_type": "markdown",
   "metadata": {},
   "source": [
    "Repeat these steps for the entity detection job."
   ]
  },
  {
   "cell_type": "code",
   "execution_count": null,
   "metadata": {},
   "outputs": [],
   "source": [
    "entity_comprehend_output_file = entity_job['EntitiesDetectionJobProperties']['OutputDataConfig']['S3Uri']\n",
    "print(f'output filename: {entity_comprehend_output_file}')\n",
    "\n",
    "entity_comprehend_bucket, entity_comprehend_key = entity_comprehend_output_file.replace(\"s3://\", \"\").split(\"/\", 1)\n",
    "\n",
    "s3r = boto3.resource('s3')\n",
    "s3r.meta.client.download_file(entity_comprehend_bucket, entity_comprehend_key, 'output-entity.tar.gz')\n",
    "\n",
    "# Extract the tar file\n",
    "import tarfile\n",
    "tf = tarfile.open('output-entity.tar.gz')\n",
    "tf.extractall()\n",
    "# Rename the output\n",
    "!mv 'output' 'entity_output'"
   ]
  },
  {
   "cell_type": "markdown",
   "metadata": {},
   "source": [
    "Read the data from the key phrases file into an array."
   ]
  },
  {
   "cell_type": "code",
   "execution_count": null,
   "metadata": {},
   "outputs": [],
   "source": [
    "import json\n",
    "data = []\n",
    "with open ('kpe_output', \"r\") as myfile:\n",
    "    for line in myfile:\n",
    "        data.append(json.loads(line))"
   ]
  },
  {
   "cell_type": "markdown",
   "metadata": {},
   "source": [
    "Load the data array into a DataFrame. There are two columns: **KeyPhrases** and **Line**."
   ]
  },
  {
   "cell_type": "code",
   "execution_count": null,
   "metadata": {},
   "outputs": [],
   "source": [
    "kpdf = pd.DataFrame(data, columns=['KeyPhrases','Line'])\n",
    "kpdf.head()"
   ]
  },
  {
   "cell_type": "markdown",
   "metadata": {},
   "source": [
    "Repeat these steps for the entity detection data."
   ]
  },
  {
   "cell_type": "code",
   "execution_count": null,
   "metadata": {},
   "outputs": [],
   "source": [
    "import json\n",
    "data = []\n",
    "with open ('entity_output', \"r\") as myfile:\n",
    "    for line in myfile:\n",
    "        data.append(json.loads(line))"
   ]
  },
  {
   "cell_type": "code",
   "execution_count": null,
   "metadata": {},
   "outputs": [],
   "source": [
    "entitydf = pd.DataFrame(data, columns=['Entities','Line'])\n",
    "entitydf.head()"
   ]
  },
  {
   "cell_type": "markdown",
   "metadata": {},
   "source": [
    "Review the entity detection data. Notice that the different detected entities, such as Person or Title, are buried in the same fields.\n",
    "\n",
    "Depending on your scenario, you may want to split this out into separate columns for each entity type. To do this, you can write a function."
   ]
  },
  {
   "cell_type": "code",
   "execution_count": null,
   "metadata": {},
   "outputs": [],
   "source": [
    "def extract_entities(entities, entity_type):\n",
    "    filtered_entities=[]\n",
    "    for entity in entities:\n",
    "        if entity['Type'] == entity_type:\n",
    "            filtered_entities.append(entity)\n",
    "    return filtered_entities"
   ]
  },
  {
   "cell_type": "markdown",
   "metadata": {},
   "source": [
    "Then apply the function to each of the event types that you want to extract."
   ]
  },
  {
   "cell_type": "code",
   "execution_count": null,
   "metadata": {},
   "outputs": [],
   "source": [
    "# df['plot_normalized'] = df['plot'].apply(normalize_text)    \n",
    "entitydf['persons'] = entitydf['Entities'].apply(lambda x: extract_entities(x,'PERSON'))\n",
    "entitydf['location'] = entitydf['Entities'].apply(lambda x: extract_entities(x, 'LOCATION'))\n",
    "entitydf['event'] = entitydf['Entities'].apply(lambda x: extract_entities(x, 'EVENT'))\n",
    "entitydf['organization'] = entitydf['Entities'].apply(lambda x: extract_entities(x, 'ORGANIZATION'))\n",
    "\n",
    "entitydf.head()"
   ]
  },
  {
   "cell_type": "markdown",
   "metadata": {},
   "source": [
    "With the results from Amazon Comprehend loaded into DataFrames, it's time to merge the results with the original DataFrame.\n",
    "\n",
    "First, set the index on both results DataFrames to the **Line** column."
   ]
  },
  {
   "cell_type": "code",
   "execution_count": null,
   "metadata": {},
   "outputs": [],
   "source": [
    "entitydf.set_index('Line', inplace = True)\n",
    "entitydf.sort_index(inplace=True)\n",
    "kpdf.set_index('Line', inplace=True)\n",
    "kpdf.sort_index(inplace=True)\n",
    "entitydf.head()"
   ]
  },
  {
   "cell_type": "markdown",
   "metadata": {},
   "source": [
    "Next, merge the **kpdf** DataFrame with the **entitydf** DataFrame."
   ]
  },
  {
   "cell_type": "code",
   "execution_count": null,
   "metadata": {},
   "outputs": [],
   "source": [
    "m1 = kpdf.merge(entitydf, left_index=True, right_index=True)\n",
    "m1.sort_index(inplace=True)\n",
    "pd.set_option('display.max_colwidth', 200)\n",
    "m1.head()"
   ]
  },
  {
   "cell_type": "markdown",
   "metadata": {},
   "source": [
    "Now merge the **m1** DataFrame with the original **df** DataFrame."
   ]
  },
  {
   "cell_type": "code",
   "execution_count": null,
   "metadata": {},
   "outputs": [],
   "source": [
    "mergedDf = df.merge(m1, left_index=True, right_index=True)"
   ]
  },
  {
   "cell_type": "code",
   "execution_count": null,
   "metadata": {},
   "outputs": [],
   "source": [
    "mergedDf.head()"
   ]
  },
  {
   "cell_type": "markdown",
   "metadata": {},
   "source": [
    "Before you merge with the metadata, set the index to the **movie_id** column."
   ]
  },
  {
   "cell_type": "code",
   "execution_count": null,
   "metadata": {},
   "outputs": [],
   "source": [
    "mergedDf.set_index('movie_id', inplace=True)"
   ]
  },
  {
   "cell_type": "code",
   "execution_count": null,
   "metadata": {},
   "outputs": [],
   "source": [
    "pd.set_option('display.max_colwidth', 50)\n",
    "mergedDf.head()"
   ]
  },
  {
   "cell_type": "code",
   "execution_count": null,
   "metadata": {},
   "outputs": [],
   "source": [
    "movie_meta_df.head()"
   ]
  },
  {
   "cell_type": "markdown",
   "metadata": {},
   "source": [
    "The final merge is between the metadata **movie_meta_df** and the **mergedDf** DataFrames."
   ]
  },
  {
   "cell_type": "code",
   "execution_count": null,
   "metadata": {},
   "outputs": [],
   "source": [
    "mergedDf = mergedDf.merge(movie_meta_df, left_index=True, right_index=True)"
   ]
  },
  {
   "cell_type": "code",
   "execution_count": null,
   "metadata": {},
   "outputs": [],
   "source": [
    "pd.set_option('display.max_colwidth', 25)\n",
    "mergedDf.head()"
   ]
  },
  {
   "cell_type": "markdown",
   "metadata": {},
   "source": [
    "Next, load a document into the Amazon OpenSearch Service. If you load a single document, you can create the index pattern that is needed to build the dashboard. You could load all of the data into Amazon OpenSearch then build it, but you would not be able to see the visualizations being updated as the data loads, which can be interesting to watch.\n",
    "\n",
    "First, check that the cluster was created."
   ]
  },
  {
   "cell_type": "code",
   "execution_count": null,
   "metadata": {},
   "outputs": [],
   "source": [
    "from time import sleep\n",
    "alive = es_client.describe_elasticsearch_domain(DomainName='nlp-lab')\n",
    "while alive['DomainStatus']['Processing']:\n",
    "    print('.', end='')\n",
    "    sleep(10)\n",
    "    alive = es_client.describe_elasticsearch_domain(DomainName='nlp-lab')\n",
    "    \n",
    "print('ready!')"
   ]
  },
  {
   "cell_type": "markdown",
   "metadata": {},
   "source": [
    "Get the endpoint from the cluster so that you know where to send requests."
   ]
  },
  {
   "cell_type": "code",
   "execution_count": null,
   "metadata": {},
   "outputs": [],
   "source": [
    "es_domain = es_client.describe_elasticsearch_domain(DomainName='nlp-lab')\n",
    "es_endpoint = es_domain['DomainStatus']['Endpoint']"
   ]
  },
  {
   "cell_type": "markdown",
   "metadata": {},
   "source": [
    "Import the OpenSearch libraries that are needed, along with AWS4Auth so that you can sign the requests with your AWS credentials."
   ]
  },
  {
   "cell_type": "code",
   "execution_count": null,
   "metadata": {},
   "outputs": [],
   "source": [
    "from opensearchpy import OpenSearch, RequestsHttpConnection\n",
    "from requests_aws4auth import AWS4Auth\n",
    "import requests"
   ]
  },
  {
   "cell_type": "markdown",
   "metadata": {},
   "source": [
    "Create an OpenSearch client."
   ]
  },
  {
   "cell_type": "code",
   "execution_count": null,
   "metadata": {},
   "outputs": [],
   "source": [
    "region= 'us-east-1' # us-east-1\n",
    "service = 'es' # IMPORTANT: this is key difference while signing the request for proxy endpoint.\n",
    "credentials = boto3.Session().get_credentials()\n",
    "\n",
    "awsauth = AWS4Auth(credentials.access_key, credentials.secret_key, region, service, session_token=credentials.token)\n",
    "es = OpenSearch(\n",
    "    hosts = [{'host': es_endpoint, 'port': 443}],\n",
    "    http_auth = awsauth,\n",
    "    use_ssl = True,\n",
    "    verify_certs = True,\n",
    "    connection_class = RequestsHttpConnection\n",
    ")"
   ]
  },
  {
   "cell_type": "markdown",
   "metadata": {},
   "source": [
    "Index a single document so that you can set up the dashboard."
   ]
  },
  {
   "cell_type": "code",
   "execution_count": null,
   "metadata": {},
   "outputs": [],
   "source": [
    "mergedDf.head(4)"
   ]
  },
  {
   "cell_type": "markdown",
   "metadata": {},
   "source": [
    "Ideally, you would load more data into the dashboard. If you are proceeding this way, it's good to find a row that contains data in all the columns.\n",
    "\n",
    "In the output for the previous cell, the movie in the fourth row, \"The Lemon Drop Kid,\" has a value in every column. This maps to position 3 in the DataFrame.\n",
    "\n",
    "To extract the information that is needed, use the **iloc** function."
   ]
  },
  {
   "cell_type": "code",
   "execution_count": null,
   "metadata": {},
   "outputs": [],
   "source": [
    "plot = mergedDf.iloc[3,0]\n",
    "keyphrases = mergedDf.iloc[3,3]\n",
    "persons = mergedDf.iloc[3,5]\n",
    "location = mergedDf.iloc[3,6]\n",
    "event = mergedDf.iloc[3,7]\n",
    "organization = mergedDf.iloc[3,8]\n",
    "movie_name = mergedDf.iloc[3,9]\n",
    "\n",
    "document = {\"name\": movie_name, \"plot\": plot, \"keyphrases\": keyphrases, \"persons\":persons, \"location\":location, \"event\":event, \"organization\": organization}\n",
    "print(document)"
   ]
  },
  {
   "cell_type": "markdown",
   "metadata": {},
   "source": [
    "The output from the previous cell displays the document to be indexed.\n",
    "\n",
    "Next, to index the document into a new index named **movies**, call the **index** function."
   ]
  },
  {
   "cell_type": "code",
   "execution_count": null,
   "metadata": {},
   "outputs": [],
   "source": [
    "es.index(index=\"movies\", id=3, body=document)"
   ]
  },
  {
   "cell_type": "markdown",
   "metadata": {},
   "source": [
    "To check that this action was completed, get the document from the OpenSearch cluster."
   ]
  },
  {
   "cell_type": "code",
   "execution_count": null,
   "metadata": {},
   "outputs": [],
   "source": [
    "print(es.get(index=\"movies\", id=\"3\"))"
   ]
  },
  {
   "cell_type": "markdown",
   "metadata": {},
   "source": [
    "# 8. Creating the Kibana dashboard\n",
    "([Go to top](#Lab-5.2:-Working-with-Entities))\n",
    "\n",
    "In this section, you will create a Kibana Dashboard to display and filter the results.\n",
    "\n",
    "First, get the URL for the Kibana dashboard."
   ]
  },
  {
   "cell_type": "code",
   "execution_count": null,
   "metadata": {},
   "outputs": [],
   "source": [
    "print(f'https://{es_endpoint}/_plugin/kibana')"
   ]
  },
  {
   "cell_type": "markdown",
   "metadata": {},
   "source": [
    "1. Navigate to the Kibana URL that was printed from the previous cell.\n",
    "1. If prompted, choose **Explore on my own**.\n",
    "1. When the page loads, choose **Dashboard**.\n",
    "\n",
    "    Because this is the first time the dashboard has been loaded, you must define an index pattern.\n",
    "\n",
    "1. Choose **Create index pattern**. \n",
    "1. For **Index pattern name**, enter `movie*`\n",
    "\n",
    "    A message displays to indicate that your index pattern matches 1 source.\n",
    "\n",
    "1. Choose **Next step**.\n",
    "1. Choose **Create index pattern**.\n",
    "\n",
    "    A table of fields displays. If everything is working, you should see 42 fields.\n",
    "\n",
    "1. Choose the hamburger menu, which is in the upper-left corner of the window.\n",
    "1. Choose **Discover**.\n",
    "1. In the **Available fields** list on the left, hover on the **name** field, and choose **Add** when it appears.\n",
    "1. Choose **Save**, which is in the upper left of the window.\n",
    "1. For **Title**, enter `movies`\n",
    "1. Choose **Save**.\n",
    "\n",
    "1. Choose the hamburger menu, and choose **Dashboard**.\n",
    "1. Choose **Create new dashboard**.\n",
    "1. Choose **Add**.\n",
    "1. Select **movies**.\n",
    "1. Close the **Add panels** pane.\n",
    "\n",
    "1. Choose **Create new**.\n",
    "1. From the list of visualizations, choose **Tag Cloud**.\n",
    "1. Choose **movie*** as the source.\n",
    "1. In the **Buckets** section, choose **Add**, **Tags**.\n",
    "1. For **Aggregation**, choose **Terms**.\n",
    "1. For **Field**, choose **keyphrases.Text.keyword**.\n",
    "1. For **Size**, enter `25`\n",
    "1. Choose **Update**.\n",
    "1. Choose **Save**.\n",
    "1. For **Title**, enter `Key Phrases`\n",
    "1. Choose **Save and return**.\n",
    "\n",
    "1. Repeat steps 19-28 for the following fields:\n",
    "    - **event.Text.keyword** (Enter `Events` as the title)\n",
    "    - **location.Text.keyword** (Enter `Location` as the title)\n",
    "    - **organization.Text.keyword** (Enter `Organization` as the title)\n",
    "    - **persons.Text.keyword** (Enter `Persons` as the title)\n",
    "\n",
    "1. Choose **Create new**.\n",
    "1. From the list of visualizations, choose **Metric**.\n",
    "1. Choose **movie*** as the source.\n",
    "1. Choose **Save**.\n",
    "1. For **Title**, enter `Total Documents`\n",
    "1. Choose **Save and return**.\n",
    "\n",
    "1. Choose the calendar icon, which is in the upper right of the window.\n",
    "1. From the **Commonly used** list, select **Today**.\n",
    "1. Choose the calendar icon again.\n",
    "1. For **Refresh every**, enter `5` seconds.\n",
    "1. Choose **Start**.\n",
    "\n",
    "1. Choose **Save**.\n",
    "1. For **Title**, enter `Movies`\n",
    "1. Choose **Save**."
   ]
  },
  {
   "cell_type": "markdown",
   "metadata": {},
   "source": [
    "With the dashboard created, you can proceed to upload the remaining documents. A few functions are available to help you to do this quickly.\n",
    "\n",
    "First, define a function that will create the document."
   ]
  },
  {
   "cell_type": "code",
   "execution_count": null,
   "metadata": {},
   "outputs": [],
   "source": [
    "from opensearchpy import helpers\n",
    "\n",
    "def gendata(start, stop):    \n",
    "    if stop>mergedDf.shape[0]:\n",
    "        stop = mergedDf.shape[0]\n",
    "    for i in range(start, stop):\n",
    "        yield {\n",
    "            \"_index\":'movies',\n",
    "            \"_type\": \"_doc\", \n",
    "            \"_id\":i, \n",
    "            \"_source\": {\"name\": mergedDf.iloc[i,9], \"plot\": mergedDf.iloc[i,0], \"keyphrases\": mergedDf.iloc[i,3], \"persons\":mergedDf.iloc[i,5], \"location\":mergedDf.iloc[i,6], \"event\":mergedDf.iloc[i,7], \"organization\": mergedDf.iloc[i,8]}\n",
    "        }"
   ]
  },
  {
   "cell_type": "markdown",
   "metadata": {},
   "source": [
    "Next, you need to refresh your credentials for Amazon ES, then call **helpers.bulk** to upload the remaining documents. This will take 3–4 minutes."
   ]
  },
  {
   "cell_type": "code",
   "execution_count": null,
   "metadata": {},
   "outputs": [],
   "source": [
    "%%time\n",
    "awsauth = AWS4Auth(credentials.access_key, credentials.secret_key, region, service, session_token=credentials.token)\n",
    "es = OpenSearch(\n",
    "    hosts = [{'host': es_endpoint, 'port': 443}],\n",
    "    http_auth = awsauth,\n",
    "    use_ssl = True,\n",
    "    verify_certs = True,\n",
    "    connection_class = RequestsHttpConnection\n",
    ")\n",
    "helpers.bulk(es, gendata(0,mergedDf.shape[0]))"
   ]
  },
  {
   "cell_type": "markdown",
   "metadata": {},
   "source": [
    "While the documents are loading, switch back to the Kibana dashboard. The display updates every 5 seconds to include the new documents.\n",
    "\n",
    "When all of the documents have been loaded, you can filter by choosing words in the tag clouds.\n",
    "\n",
    "As a challenge, try to filter for James Bond movies. \n",
    "\n",
    "**Hint**: James Bond is likely to be found in London, he works for an organization called MI6, and his code name is 007."
   ]
  },
  {
   "cell_type": "markdown",
   "metadata": {},
   "source": [
    "# 9. Cleaning up\n",
    "([Go to top](#Lab-5.2:-Working-with-Entities))\n",
    "\n",
    "When you have finished experimenting with the OpenSearch cluster, shut down the cluster.\n"
   ]
  },
  {
   "cell_type": "code",
   "execution_count": null,
   "metadata": {},
   "outputs": [],
   "source": [
    "response = es_client.delete_elasticsearch_domain(\n",
    "    DomainName='nlp-lab'\n",
    ")"
   ]
  },
  {
   "cell_type": "markdown",
   "metadata": {},
   "source": [
    "# Congratulations!\n",
    "\n",
    "You have completed this lab, and you can now end the lab by following the lab guide instructions."
   ]
  },
  {
   "cell_type": "markdown",
   "metadata": {},
   "source": [
    "*©2021 Amazon Web Services, Inc. or its affiliates. All rights reserved. This work may not be reproduced or redistributed, in whole or in part, without prior written permission from Amazon Web Services, Inc. Commercial copying, lending, or selling is prohibited. All trademarks are the property of their owners.*"
   ]
  }
 ],
 "metadata": {
  "instance_type": "ml.m5.large",
  "kernelspec": {
   "display_name": "conda_python3",
   "language": "python",
   "name": "conda_python3"
  },
  "language_info": {
   "codemirror_mode": {
    "name": "ipython",
    "version": 3
   },
   "file_extension": ".py",
   "mimetype": "text/x-python",
   "name": "python",
   "nbconvert_exporter": "python",
   "pygments_lexer": "ipython3",
   "version": "3.6.13"
  },
  "toc": {
   "base_numbering": 1,
   "nav_menu": {},
   "number_sections": true,
   "sideBar": true,
   "skip_h1_title": false,
   "title_cell": "Table of Contents",
   "title_sidebar": "Contents",
   "toc_cell": false,
   "toc_position": {},
   "toc_section_display": true,
   "toc_window_display": false
  }
 },
 "nbformat": 4,
 "nbformat_minor": 4
}
